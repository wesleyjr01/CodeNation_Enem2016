{
 "cells": [
  {
   "cell_type": "markdown",
   "metadata": {},
   "source": [
    "## CodeNation Challenge: Prediction of the Math Grades of Students in Enem 2016"
   ]
  },
  {
   "cell_type": "markdown",
   "metadata": {},
   "source": [
    "Competition Description here: https://www.codenation.com.br/journey/data-science/challenge/enem-2.html"
   ]
  },
  {
   "cell_type": "code",
   "execution_count": 176,
   "metadata": {},
   "outputs": [],
   "source": [
    "import numpy as np\n",
    "import pandas as pd\n",
    "from sklearn import preprocessing\n",
    "import matplotlib.pyplot as plt\n",
    "import seaborn as sns\n",
    "import warnings\n",
    "warnings.filterwarnings('ignore')"
   ]
  },
  {
   "cell_type": "code",
   "execution_count": 177,
   "metadata": {},
   "outputs": [],
   "source": [
    "# Import csv's\n",
    "df_train = pd.read_csv(r\"C:\\Users\\wesle\\codenation\\enem-2\\train.csv\")\n",
    "df_test= pd.read_csv(r\"C:\\Users\\wesle\\codenation\\enem-2\\test.csv\")"
   ]
  },
  {
   "cell_type": "code",
   "execution_count": 178,
   "metadata": {},
   "outputs": [
    {
     "data": {
      "text/html": [
       "<div>\n",
       "<style scoped>\n",
       "    .dataframe tbody tr th:only-of-type {\n",
       "        vertical-align: middle;\n",
       "    }\n",
       "\n",
       "    .dataframe tbody tr th {\n",
       "        vertical-align: top;\n",
       "    }\n",
       "\n",
       "    .dataframe thead th {\n",
       "        text-align: right;\n",
       "    }\n",
       "</style>\n",
       "<table border=\"1\" class=\"dataframe\">\n",
       "  <thead>\n",
       "    <tr style=\"text-align: right;\">\n",
       "      <th></th>\n",
       "      <th>Unnamed: 0</th>\n",
       "      <th>NU_INSCRICAO</th>\n",
       "      <th>NU_ANO</th>\n",
       "      <th>CO_MUNICIPIO_RESIDENCIA</th>\n",
       "      <th>NO_MUNICIPIO_RESIDENCIA</th>\n",
       "      <th>CO_UF_RESIDENCIA</th>\n",
       "      <th>SG_UF_RESIDENCIA</th>\n",
       "      <th>NU_IDADE</th>\n",
       "      <th>TP_SEXO</th>\n",
       "      <th>TP_ESTADO_CIVIL</th>\n",
       "      <th>...</th>\n",
       "      <th>Q041</th>\n",
       "      <th>Q042</th>\n",
       "      <th>Q043</th>\n",
       "      <th>Q044</th>\n",
       "      <th>Q045</th>\n",
       "      <th>Q046</th>\n",
       "      <th>Q047</th>\n",
       "      <th>Q048</th>\n",
       "      <th>Q049</th>\n",
       "      <th>Q050</th>\n",
       "    </tr>\n",
       "  </thead>\n",
       "  <tbody>\n",
       "    <tr>\n",
       "      <th>0</th>\n",
       "      <td>1</td>\n",
       "      <td>ed50e8aaa58e7a806c337585efee9ca41f1eb1ad</td>\n",
       "      <td>2016</td>\n",
       "      <td>4314902</td>\n",
       "      <td>Porto Alegre</td>\n",
       "      <td>43</td>\n",
       "      <td>RS</td>\n",
       "      <td>24</td>\n",
       "      <td>M</td>\n",
       "      <td>0.0</td>\n",
       "      <td>...</td>\n",
       "      <td>5.0</td>\n",
       "      <td>A</td>\n",
       "      <td>A</td>\n",
       "      <td>A</td>\n",
       "      <td>A</td>\n",
       "      <td>A</td>\n",
       "      <td>A</td>\n",
       "      <td>A</td>\n",
       "      <td>B</td>\n",
       "      <td>D</td>\n",
       "    </tr>\n",
       "    <tr>\n",
       "      <th>1</th>\n",
       "      <td>2</td>\n",
       "      <td>2c3acac4b33ec2b195d77e7c04a2d75727fad723</td>\n",
       "      <td>2016</td>\n",
       "      <td>2304707</td>\n",
       "      <td>Granja</td>\n",
       "      <td>23</td>\n",
       "      <td>CE</td>\n",
       "      <td>17</td>\n",
       "      <td>F</td>\n",
       "      <td>0.0</td>\n",
       "      <td>...</td>\n",
       "      <td>NaN</td>\n",
       "      <td>A</td>\n",
       "      <td>A</td>\n",
       "      <td>C</td>\n",
       "      <td>A</td>\n",
       "      <td>B</td>\n",
       "      <td>A</td>\n",
       "      <td>A</td>\n",
       "      <td>C</td>\n",
       "      <td>A</td>\n",
       "    </tr>\n",
       "    <tr>\n",
       "      <th>2</th>\n",
       "      <td>3</td>\n",
       "      <td>f4545f8ccb9ff5c8aad7d32951b3f251a26e6568</td>\n",
       "      <td>2016</td>\n",
       "      <td>2304400</td>\n",
       "      <td>Fortaleza</td>\n",
       "      <td>23</td>\n",
       "      <td>CE</td>\n",
       "      <td>21</td>\n",
       "      <td>F</td>\n",
       "      <td>0.0</td>\n",
       "      <td>...</td>\n",
       "      <td>NaN</td>\n",
       "      <td>A</td>\n",
       "      <td>A</td>\n",
       "      <td>A</td>\n",
       "      <td>A</td>\n",
       "      <td>C</td>\n",
       "      <td>A</td>\n",
       "      <td>A</td>\n",
       "      <td>B</td>\n",
       "      <td>A</td>\n",
       "    </tr>\n",
       "    <tr>\n",
       "      <th>3</th>\n",
       "      <td>4</td>\n",
       "      <td>3d6ec248fef899c414e77f82d5c6d2bffbeaf7fe</td>\n",
       "      <td>2016</td>\n",
       "      <td>3304557</td>\n",
       "      <td>Rio de Janeiro</td>\n",
       "      <td>33</td>\n",
       "      <td>RJ</td>\n",
       "      <td>25</td>\n",
       "      <td>F</td>\n",
       "      <td>0.0</td>\n",
       "      <td>...</td>\n",
       "      <td>5.0</td>\n",
       "      <td>C</td>\n",
       "      <td>A</td>\n",
       "      <td>A</td>\n",
       "      <td>A</td>\n",
       "      <td>A</td>\n",
       "      <td>D</td>\n",
       "      <td>A</td>\n",
       "      <td>A</td>\n",
       "      <td>A</td>\n",
       "    </tr>\n",
       "    <tr>\n",
       "      <th>4</th>\n",
       "      <td>5</td>\n",
       "      <td>bf896ac8d3ecadd6dba1dfbf50110afcbf5d3268</td>\n",
       "      <td>2016</td>\n",
       "      <td>1302603</td>\n",
       "      <td>Manaus</td>\n",
       "      <td>13</td>\n",
       "      <td>AM</td>\n",
       "      <td>28</td>\n",
       "      <td>M</td>\n",
       "      <td>0.0</td>\n",
       "      <td>...</td>\n",
       "      <td>NaN</td>\n",
       "      <td>A</td>\n",
       "      <td>A</td>\n",
       "      <td>A</td>\n",
       "      <td>A</td>\n",
       "      <td>A</td>\n",
       "      <td>A</td>\n",
       "      <td>A</td>\n",
       "      <td>A</td>\n",
       "      <td>A</td>\n",
       "    </tr>\n",
       "  </tbody>\n",
       "</table>\n",
       "<p>5 rows × 167 columns</p>\n",
       "</div>"
      ],
      "text/plain": [
       "   Unnamed: 0                              NU_INSCRICAO  NU_ANO  \\\n",
       "0           1  ed50e8aaa58e7a806c337585efee9ca41f1eb1ad    2016   \n",
       "1           2  2c3acac4b33ec2b195d77e7c04a2d75727fad723    2016   \n",
       "2           3  f4545f8ccb9ff5c8aad7d32951b3f251a26e6568    2016   \n",
       "3           4  3d6ec248fef899c414e77f82d5c6d2bffbeaf7fe    2016   \n",
       "4           5  bf896ac8d3ecadd6dba1dfbf50110afcbf5d3268    2016   \n",
       "\n",
       "   CO_MUNICIPIO_RESIDENCIA NO_MUNICIPIO_RESIDENCIA  CO_UF_RESIDENCIA  \\\n",
       "0                  4314902            Porto Alegre                43   \n",
       "1                  2304707                  Granja                23   \n",
       "2                  2304400               Fortaleza                23   \n",
       "3                  3304557          Rio de Janeiro                33   \n",
       "4                  1302603                  Manaus                13   \n",
       "\n",
       "  SG_UF_RESIDENCIA  NU_IDADE TP_SEXO  TP_ESTADO_CIVIL  ...   Q041  Q042  Q043  \\\n",
       "0               RS        24       M              0.0  ...    5.0     A     A   \n",
       "1               CE        17       F              0.0  ...    NaN     A     A   \n",
       "2               CE        21       F              0.0  ...    NaN     A     A   \n",
       "3               RJ        25       F              0.0  ...    5.0     C     A   \n",
       "4               AM        28       M              0.0  ...    NaN     A     A   \n",
       "\n",
       "  Q044  Q045 Q046  Q047  Q048  Q049  Q050  \n",
       "0    A     A    A     A     A     B     D  \n",
       "1    C     A    B     A     A     C     A  \n",
       "2    A     A    C     A     A     B     A  \n",
       "3    A     A    A     D     A     A     A  \n",
       "4    A     A    A     A     A     A     A  \n",
       "\n",
       "[5 rows x 167 columns]"
      ]
     },
     "execution_count": 178,
     "metadata": {},
     "output_type": "execute_result"
    }
   ],
   "source": [
    "#Take a look at the data\n",
    "df_train.head()"
   ]
  },
  {
   "cell_type": "code",
   "execution_count": 179,
   "metadata": {},
   "outputs": [
    {
     "name": "stdout",
     "output_type": "stream",
     "text": [
      "\n",
      "Train and Test Datasets have the same columns?: False\n",
      "\n",
      "Variables not in test but in train :  {'Q050', 'CO_UF_NASCIMENTO', 'TX_GABARITO_MT', 'Q028', 'Q015', 'Q049', 'Q037', 'IN_GUIA_INTERPRETE', 'Q038', 'TX_RESPOSTAS_CN', 'SG_UF_NASCIMENTO', 'TP_PRESENCA_MT', 'Q010', 'Q030', 'TP_LOCALIZACAO_ESC', 'Q019', 'IN_MESA_CADEIRA_RODAS', 'Q035', 'CO_ESCOLA', 'Q042', 'IN_VISAO_MONOCULAR', 'NO_MUNICIPIO_NASCIMENTO', 'IN_MEDIDOR_GLICOSE', 'Q008', 'TP_ESTADO_CIVIL', 'NO_MUNICIPIO_PROVA', 'Q016', 'IN_BRAILLE', 'Q020', 'Q045', 'IN_MOBILIARIO_ESPECIFICO', 'IN_MARCA_PASSO', 'CO_UF_ENTIDADE_CERTIFICACAO', 'IN_PROVA_DEITADO', 'CO_MUNICIPIO_RESIDENCIA', 'IN_LAMINA_OVERLAY', 'NO_MUNICIPIO_RESIDENCIA', 'Q003', 'IN_CADEIRA_CANHOTO', 'Q012', 'Q018', 'TX_GABARITO_CN', 'IN_SOROBAN', 'IN_AMPLIADA_24', 'TX_RESPOSTAS_LC', 'TP_SIT_FUNC_ESC', 'IN_DEFICIENCIA_MENTAL', 'Unnamed: 0', 'SG_UF_ENTIDADE_CERTIFICACAO', 'IN_TRANSCRICAO', 'TX_GABARITO_LC', 'SG_UF_ESC', 'Q013', 'Q031', 'Q005', 'Q041', 'CO_MUNICIPIO_ESC', 'Q007', 'Q014', 'IN_MAQUINA_BRAILE', 'NO_MUNICIPIO_ESC', 'IN_SALA_INDIVIDUAL', 'IN_SURDO_CEGUEIRA', 'IN_AMPLIADA_18', 'Q021', 'Q023', 'IN_ACESSO', 'Q022', 'IN_MATERIAL_ESPECIFICO', 'IN_SALA_ACOMPANHANTE', 'IN_DEFICIENCIA_FISICA', 'IN_COMPUTADOR', 'IN_SEM_RECURSO', 'Q033', 'IN_MOBILIARIO_OBESO', 'CO_MUNICIPIO_NASCIMENTO', 'IN_CADEIRA_ESPECIAL', 'IN_CADEIRA_ACOLCHOADA', 'Q034', 'IN_SALA_ESPECIAL', 'IN_APOIO_PERNA', 'NO_ENTIDADE_CERTIFICACAO', 'Q004', 'IN_MACA', 'TX_RESPOSTAS_MT', 'IN_LIBRAS', 'IN_LEDOR', 'Q048', 'Q036', 'Q017', 'IN_CERTIFICADO', 'TX_GABARITO_CH', 'CO_UF_PROVA', 'Q044', 'Q032', 'TX_RESPOSTAS_CH', 'IN_LEITURA_LABIAL', 'IN_SONDA', 'IN_OUTRA_DEF', 'Q009', 'Q046', 'Q039', 'IN_AUTISMO', 'IN_LACTANTE', 'IN_MESA_CADEIRA_SEPARADA', 'Q011', 'IN_MEDICAMENTOS', 'Q029', 'NU_ANO', 'IN_NOME_SOCIAL', 'CO_MUNICIPIO_PROVA', 'CO_UF_ESC', 'Q043', 'SG_UF_PROVA', 'Q040', 'IN_PROTETOR_AURICULAR', 'IN_DEFICIENCIA_AUDITIVA', 'IN_DEFICIT_ATENCAO', 'IN_ESTUDA_CLASSE_HOSPITALAR'}\n"
     ]
    }
   ],
   "source": [
    "# Drop Different Columns from train and test\n",
    "target = 'NU_NOTA_MT'\n",
    "print('\\nTrain and Test Datasets have the same columns?:',\n",
    "      df_train.drop(target,axis=1).columns.tolist()==df_test.columns.tolist())\n",
    "print(\"\\nVariables not in test but in train : \", \n",
    "      set(df_train.drop(target,axis=1).columns).difference(set(df_test.columns)))\n",
    "dif = list(set(df_train.drop(target,axis=1).columns).difference(set(df_test.columns)))\n",
    "\n",
    "df_train.drop(dif,axis=1,inplace=True)"
   ]
  },
  {
   "cell_type": "code",
   "execution_count": 180,
   "metadata": {},
   "outputs": [
    {
     "data": {
      "text/plain": [
       "(13730, 48)"
      ]
     },
     "execution_count": 180,
     "metadata": {},
     "output_type": "execute_result"
    }
   ],
   "source": [
    "df_train.shape"
   ]
  },
  {
   "cell_type": "code",
   "execution_count": 181,
   "metadata": {},
   "outputs": [
    {
     "data": {
      "text/plain": [
       "(4576, 47)"
      ]
     },
     "execution_count": 181,
     "metadata": {},
     "output_type": "execute_result"
    }
   ],
   "source": [
    "df_test.shape"
   ]
  },
  {
   "cell_type": "code",
   "execution_count": 182,
   "metadata": {},
   "outputs": [
    {
     "data": {
      "text/plain": [
       "['IN_CEGUEIRA']"
      ]
     },
     "execution_count": 182,
     "metadata": {},
     "output_type": "execute_result"
    }
   ],
   "source": [
    "# Check Columns with constant values\n",
    "dropcols_train = [c for c in df_train.columns if (df_train[c].nunique()==1) & (df_train[c].isnull().sum() == 0)]\n",
    "dropcols_train"
   ]
  },
  {
   "cell_type": "code",
   "execution_count": 183,
   "metadata": {},
   "outputs": [],
   "source": [
    "#Columns to be dropped\n",
    "cols_to_drop = dropcols_train + ['NU_INSCRICAO']"
   ]
  },
  {
   "cell_type": "code",
   "execution_count": 184,
   "metadata": {},
   "outputs": [],
   "source": [
    "# Store and Drops Id's from datasets, and Target from Train Dataset\n",
    "ID = 'NU_INSCRICAO'\n",
    "y_train = df_train[target].values\n",
    "train_id = df_train[ID].values\n",
    "test_id = df_test[ID].values"
   ]
  },
  {
   "cell_type": "code",
   "execution_count": 185,
   "metadata": {},
   "outputs": [],
   "source": [
    "#Merge Data before preprocessing:\n",
    "df_merge = pd.concat([df_train.drop(target,axis=1),df_test],axis=0)\n",
    "df_merge.drop(cols_to_drop,axis=1,inplace=True)"
   ]
  },
  {
   "cell_type": "code",
   "execution_count": 186,
   "metadata": {},
   "outputs": [
    {
     "data": {
      "text/html": [
       "<div>\n",
       "<style scoped>\n",
       "    .dataframe tbody tr th:only-of-type {\n",
       "        vertical-align: middle;\n",
       "    }\n",
       "\n",
       "    .dataframe tbody tr th {\n",
       "        vertical-align: top;\n",
       "    }\n",
       "\n",
       "    .dataframe thead th {\n",
       "        text-align: right;\n",
       "    }\n",
       "</style>\n",
       "<table border=\"1\" class=\"dataframe\">\n",
       "  <thead>\n",
       "    <tr style=\"text-align: right;\">\n",
       "      <th></th>\n",
       "      <th>Total</th>\n",
       "      <th>Percent</th>\n",
       "    </tr>\n",
       "  </thead>\n",
       "  <tbody>\n",
       "    <tr>\n",
       "      <th>TP_ENSINO</th>\n",
       "      <td>12544</td>\n",
       "      <td>0.685240</td>\n",
       "    </tr>\n",
       "    <tr>\n",
       "      <th>TP_DEPENDENCIA_ADM_ESC</th>\n",
       "      <td>12544</td>\n",
       "      <td>0.685240</td>\n",
       "    </tr>\n",
       "    <tr>\n",
       "      <th>Q027</th>\n",
       "      <td>9861</td>\n",
       "      <td>0.538676</td>\n",
       "    </tr>\n",
       "    <tr>\n",
       "      <th>TP_STATUS_REDACAO</th>\n",
       "      <td>4796</td>\n",
       "      <td>0.261991</td>\n",
       "    </tr>\n",
       "    <tr>\n",
       "      <th>NU_NOTA_COMP4</th>\n",
       "      <td>4796</td>\n",
       "      <td>0.261991</td>\n",
       "    </tr>\n",
       "    <tr>\n",
       "      <th>NU_NOTA_LC</th>\n",
       "      <td>4796</td>\n",
       "      <td>0.261991</td>\n",
       "    </tr>\n",
       "    <tr>\n",
       "      <th>NU_NOTA_COMP1</th>\n",
       "      <td>4796</td>\n",
       "      <td>0.261991</td>\n",
       "    </tr>\n",
       "    <tr>\n",
       "      <th>NU_NOTA_COMP2</th>\n",
       "      <td>4796</td>\n",
       "      <td>0.261991</td>\n",
       "    </tr>\n",
       "    <tr>\n",
       "      <th>NU_NOTA_COMP3</th>\n",
       "      <td>4796</td>\n",
       "      <td>0.261991</td>\n",
       "    </tr>\n",
       "    <tr>\n",
       "      <th>NU_NOTA_COMP5</th>\n",
       "      <td>4796</td>\n",
       "      <td>0.261991</td>\n",
       "    </tr>\n",
       "    <tr>\n",
       "      <th>NU_NOTA_REDACAO</th>\n",
       "      <td>4796</td>\n",
       "      <td>0.261991</td>\n",
       "    </tr>\n",
       "    <tr>\n",
       "      <th>NU_NOTA_CN</th>\n",
       "      <td>4523</td>\n",
       "      <td>0.247077</td>\n",
       "    </tr>\n",
       "    <tr>\n",
       "      <th>NU_NOTA_CH</th>\n",
       "      <td>4523</td>\n",
       "      <td>0.247077</td>\n",
       "    </tr>\n",
       "    <tr>\n",
       "      <th>IN_TREINEIRO</th>\n",
       "      <td>0</td>\n",
       "      <td>0.000000</td>\n",
       "    </tr>\n",
       "    <tr>\n",
       "      <th>IN_BAIXA_VISAO</th>\n",
       "      <td>0</td>\n",
       "      <td>0.000000</td>\n",
       "    </tr>\n",
       "    <tr>\n",
       "      <th>IN_SURDEZ</th>\n",
       "      <td>0</td>\n",
       "      <td>0.000000</td>\n",
       "    </tr>\n",
       "    <tr>\n",
       "      <th>TP_ESCOLA</th>\n",
       "      <td>0</td>\n",
       "      <td>0.000000</td>\n",
       "    </tr>\n",
       "    <tr>\n",
       "      <th>IN_DISLEXIA</th>\n",
       "      <td>0</td>\n",
       "      <td>0.000000</td>\n",
       "    </tr>\n",
       "    <tr>\n",
       "      <th>Q047</th>\n",
       "      <td>0</td>\n",
       "      <td>0.000000</td>\n",
       "    </tr>\n",
       "    <tr>\n",
       "      <th>TP_ANO_CONCLUIU</th>\n",
       "      <td>0</td>\n",
       "      <td>0.000000</td>\n",
       "    </tr>\n",
       "  </tbody>\n",
       "</table>\n",
       "</div>"
      ],
      "text/plain": [
       "                        Total   Percent\n",
       "TP_ENSINO               12544  0.685240\n",
       "TP_DEPENDENCIA_ADM_ESC  12544  0.685240\n",
       "Q027                     9861  0.538676\n",
       "TP_STATUS_REDACAO        4796  0.261991\n",
       "NU_NOTA_COMP4            4796  0.261991\n",
       "NU_NOTA_LC               4796  0.261991\n",
       "NU_NOTA_COMP1            4796  0.261991\n",
       "NU_NOTA_COMP2            4796  0.261991\n",
       "NU_NOTA_COMP3            4796  0.261991\n",
       "NU_NOTA_COMP5            4796  0.261991\n",
       "NU_NOTA_REDACAO          4796  0.261991\n",
       "NU_NOTA_CN               4523  0.247077\n",
       "NU_NOTA_CH               4523  0.247077\n",
       "IN_TREINEIRO                0  0.000000\n",
       "IN_BAIXA_VISAO              0  0.000000\n",
       "IN_SURDEZ                   0  0.000000\n",
       "TP_ESCOLA                   0  0.000000\n",
       "IN_DISLEXIA                 0  0.000000\n",
       "Q047                        0  0.000000\n",
       "TP_ANO_CONCLUIU             0  0.000000"
      ]
     },
     "execution_count": 186,
     "metadata": {},
     "output_type": "execute_result"
    }
   ],
   "source": [
    "#Missing Data on Merge Dataset\n",
    "total = df_merge.isnull().sum().sort_values(ascending=False)\n",
    "percent = (df_merge.isnull().sum()/df_merge.isnull().count()).sort_values(ascending=False)\n",
    "missing_data = pd.concat([total, percent], axis=1, keys=['Total', 'Percent'])\n",
    "missing_data.head(20)"
   ]
  },
  {
   "cell_type": "markdown",
   "metadata": {},
   "source": [
    "### Filling Missing Data"
   ]
  },
  {
   "cell_type": "code",
   "execution_count": 187,
   "metadata": {},
   "outputs": [],
   "source": [
    "df_merge['TP_ENSINO'].fillna(4,inplace=True) #'4' will represent the NaN class of this feature\n",
    "df_merge['TP_DEPENDENCIA_ADM_ESC'].fillna(5,inplace=True) #'5' will represent the NaN class of this feature\n",
    "df_merge['Q027'].fillna('None',inplace=True) #'None' will represent the NaN class of this feature"
   ]
  },
  {
   "cell_type": "code",
   "execution_count": 188,
   "metadata": {},
   "outputs": [
    {
     "name": "stdout",
     "output_type": "stream",
     "text": [
      "Missing Data on NU_NOTA_MT: 3597\n",
      "Missing Data on NU_NOTA_CN: 3389\n",
      "Missing Data on NU_NOTA_CH: 3389\n",
      "Missing Data on NU_NOTA_REDACAO: 3597\n"
     ]
    }
   ],
   "source": [
    "print('Missing Data on NU_NOTA_MT:',df_train[target].isnull().sum())\n",
    "print('Missing Data on NU_NOTA_CN:',df_train['NU_NOTA_CN'].isnull().sum())\n",
    "print('Missing Data on NU_NOTA_CH:',df_train['NU_NOTA_CH'].isnull().sum())\n",
    "print('Missing Data on NU_NOTA_REDACAO:',df_train['NU_NOTA_REDACAO'].isnull().sum())"
   ]
  },
  {
   "cell_type": "markdown",
   "metadata": {},
   "source": [
    "We can see that the NaN's are equal in NU_NOTA_MT and NU_NOTA_REDACAO, probably because these tests were applied in the same day. Therefore, we are not going to train our model in those days. We will use the feature 'TP_STATUS_REDACAO' to tell which rows we need to drop in df_train and df_test, because the NaN's from this feature indicates the examples which the student missed the Math/Redacao test day."
   ]
  },
  {
   "cell_type": "code",
   "execution_count": 189,
   "metadata": {},
   "outputs": [],
   "source": [
    "# Restore datraframes df_train and df_test\n",
    "df_train = df_merge[:len(df_train)]\n",
    "df_train[target] = y_train.tolist()\n",
    "df_test = df_merge[len(df_train):]\n",
    "df_test[ID] = test_id\n",
    "df_train[ID] = train_id"
   ]
  },
  {
   "cell_type": "markdown",
   "metadata": {},
   "source": [
    "Store the examples in Test dataset which our answer will be NaN based on 'TP_STATUS_REDACAO':"
   ]
  },
  {
   "cell_type": "code",
   "execution_count": 190,
   "metadata": {},
   "outputs": [
    {
     "data": {
      "text/plain": [
       "3       70b682d9a3636be23f6120fa9d6b164eb3c6002d\n",
       "10      8b7c167ea7b55c8168ec60c3851b1b598a8fbd11\n",
       "11      db4da599aab5bb08dce27094a35fd3e36cd0abce\n",
       "16      fbfa8cde21a692b51fb86342110b4a334a0fcfdb\n",
       "17      ca8477c8493b09f34d17bb287f9bacf2dd744c32\n",
       "18      8b0c675d7fde14953668269d378c588f0df0498b\n",
       "21      d30d31c8ff45094e9a992c63d4a6f68b245a341a\n",
       "22      c0c6a803c271a955a7085a59cd3d4d43bcf7a1a6\n",
       "29      153eebe4d270fe850d2ede7f53cbc81a6f4ddf91\n",
       "30      a4e821c6f16fdae0a26cbbb7018b75812dfd074b\n",
       "44      24550edb10f283ef4e953fd6a8fedbfa211bd456\n",
       "50      65bba36aa15f0c4ef3562ea56c125d931bc4ed63\n",
       "51      1045c54b5ea9f6e08454ec57c47e4ce0e33190bd\n",
       "59      5357b6c09be4c7f3829b72f80de846a9228253cb\n",
       "61      226b53de56347e3f9b52c8e0ab811fb82e96b3fb\n",
       "62      089613ac7dca24109f84c72a97c83b2768b1df1c\n",
       "63      527773409bf373301dbd835e59a263c035c043b8\n",
       "64      45c95a1640ada5c9206fde19c4ccf68929c5ec0c\n",
       "69      1b72da5bb82cc150ecfe71218c02f155d694230b\n",
       "70      e429507efe1c2680cc464481850117d17083cd88\n",
       "74      c8762fee25b022eb5b4918f8f689e4fb6d19f73c\n",
       "81      5a9d89465845ac2d81366275cbb1a81d627efd36\n",
       "86      ffc5eb6764d7640edfbdaf4648cd54a12c94dea9\n",
       "99      1730807e4916c5f7e8ab21e02ac5657bcea3e732\n",
       "109     c52cae37c3653620bbec72264c502f45ca2a8671\n",
       "111     2178c497293d0cab01ce74f5105b1a398fb12d8e\n",
       "112     e21faa0c07406dde71ec02f266b19b314ba8b0e2\n",
       "114     12ee0df69325d97cb95404958c4acf4112aeab8a\n",
       "116     66cf0f8b5af2466f9616fd15c0c10344df84982a\n",
       "118     60edc5708acd60680891ea15379dd07c7a5924ff\n",
       "                          ...                   \n",
       "4455    1876251a8137cfe73645ed17f5c23a792744bcd3\n",
       "4456    af75a82019d78c3eb46060e7523d9e2f593777b5\n",
       "4457    381857c3ebbcb389b94d1f17d63dca1df136869f\n",
       "4458    7f137037213cb730c173fed0fa2ab1f22f204f22\n",
       "4459    27a78ea8de0653b12347393e162dfdbec6c33f32\n",
       "4467    9c275826fda115bdd6182d8ab16dbecaea97e780\n",
       "4469    b9ed340e8bd0c1e667394487238a16c56c1cdac9\n",
       "4481    ea0d1a054982160a01e9e5f60d773ac530a1799b\n",
       "4484    362c2bbbb35cf9b8585db9dc9679f61987bf020e\n",
       "4485    eee27c1ffbcaa9007439579c0130a4441947c1fe\n",
       "4488    3a5ca36099c6a0fd156a76b4a690475571fd1910\n",
       "4494    14b65d92ea59b7842a5cb62751408f93fbf01c66\n",
       "4495    924a4fcdb15cacd3269fa71e576321de1870affc\n",
       "4497    cf1195c45bcf3bfc6135eb9c5625283207cc2f03\n",
       "4502    b6893e409cdc3b7f6c940cd214438aa761913f85\n",
       "4510    e4206ed13817dac8d85bc6b92c7802b8dae6e905\n",
       "4516    ce09f3d27a71990c8cfbaa61ab1674a15405ae5b\n",
       "4518    df956ce581c80ef60a679e2c4462bb58e17954fc\n",
       "4524    678812c116ade3ff556dc323192e1e4181401cb7\n",
       "4527    cf022520c3c454f72126080adff2602ed64fe923\n",
       "4528    5581f3af6745c15b7def2d2a5f5b3470d8c94292\n",
       "4530    b37585062738f5f8ed6b8c1be21620c263825902\n",
       "4533    eb0c3ef3526b4d31b6c35e615728d79fdf13262a\n",
       "4535    7f96744acc207e4cae1cba621dd61c6ac9c6d746\n",
       "4541    04ce287c4adefd1db06904756e7036cf8dc04999\n",
       "4543    098eabcd83d72785beca4cdff3d5cfbc71904a48\n",
       "4546    b8ec140a86a7a6e569f3eda9ae9083183ca2e386\n",
       "4547    40a9b86a4efdd7ab5ee6fc26de9a984946896deb\n",
       "4549    ec73ba109d1a91299e071b2a95f79c36c1c6e069\n",
       "4575    adf0d15b54317b6564ef56dad2b775bbb0ef50cc\n",
       "Name: NU_INSCRICAO, Length: 1199, dtype: object"
      ]
     },
     "execution_count": 190,
     "metadata": {},
     "output_type": "execute_result"
    }
   ],
   "source": [
    "# Store ID's of Test Dataset which we will set the prediction result as NaN\n",
    "NaNs_ID = df_test.loc[df_test['TP_STATUS_REDACAO'].isnull(),ID]\n",
    "df_test = df_test[~df_test['TP_STATUS_REDACAO'].isnull()] #Remove those examples from test dataset\n",
    "df_train = df_train[~df_train['TP_STATUS_REDACAO'].isnull()] #Remove those examples from train dataset\n",
    "NaNs_ID"
   ]
  },
  {
   "cell_type": "markdown",
   "metadata": {},
   "source": [
    "**Re-merging:** Now we can Re-Merge the datasets into the df_merge DataFrame and end our data-processing steps:"
   ]
  },
  {
   "cell_type": "code",
   "execution_count": 191,
   "metadata": {},
   "outputs": [],
   "source": [
    "y_train = df_train[target].values\n",
    "test_id = df_test[ID].values\n",
    "df_merge = pd.concat([df_train.drop(target,axis=1),df_test],axis=0)\n",
    "df_merge.drop(ID,axis=1,inplace=True)"
   ]
  },
  {
   "cell_type": "markdown",
   "metadata": {},
   "source": [
    "Let's check again the missing data on df_merge"
   ]
  },
  {
   "cell_type": "code",
   "execution_count": 192,
   "metadata": {},
   "outputs": [
    {
     "data": {
      "text/html": [
       "<div>\n",
       "<style scoped>\n",
       "    .dataframe tbody tr th:only-of-type {\n",
       "        vertical-align: middle;\n",
       "    }\n",
       "\n",
       "    .dataframe tbody tr th {\n",
       "        vertical-align: top;\n",
       "    }\n",
       "\n",
       "    .dataframe thead th {\n",
       "        text-align: right;\n",
       "    }\n",
       "</style>\n",
       "<table border=\"1\" class=\"dataframe\">\n",
       "  <thead>\n",
       "    <tr style=\"text-align: right;\">\n",
       "      <th></th>\n",
       "      <th>Total</th>\n",
       "      <th>Percent</th>\n",
       "    </tr>\n",
       "  </thead>\n",
       "  <tbody>\n",
       "    <tr>\n",
       "      <th>NU_NOTA_CN</th>\n",
       "      <td>53</td>\n",
       "      <td>0.003923</td>\n",
       "    </tr>\n",
       "    <tr>\n",
       "      <th>NU_NOTA_CH</th>\n",
       "      <td>53</td>\n",
       "      <td>0.003923</td>\n",
       "    </tr>\n",
       "    <tr>\n",
       "      <th>Q047</th>\n",
       "      <td>0</td>\n",
       "      <td>0.000000</td>\n",
       "    </tr>\n",
       "    <tr>\n",
       "      <th>TP_DEPENDENCIA_ADM_ESC</th>\n",
       "      <td>0</td>\n",
       "      <td>0.000000</td>\n",
       "    </tr>\n",
       "    <tr>\n",
       "      <th>IN_IDOSO</th>\n",
       "      <td>0</td>\n",
       "      <td>0.000000</td>\n",
       "    </tr>\n",
       "    <tr>\n",
       "      <th>IN_GESTANTE</th>\n",
       "      <td>0</td>\n",
       "      <td>0.000000</td>\n",
       "    </tr>\n",
       "    <tr>\n",
       "      <th>IN_SABATISTA</th>\n",
       "      <td>0</td>\n",
       "      <td>0.000000</td>\n",
       "    </tr>\n",
       "    <tr>\n",
       "      <th>IN_DISCALCULIA</th>\n",
       "      <td>0</td>\n",
       "      <td>0.000000</td>\n",
       "    </tr>\n",
       "    <tr>\n",
       "      <th>IN_DISLEXIA</th>\n",
       "      <td>0</td>\n",
       "      <td>0.000000</td>\n",
       "    </tr>\n",
       "    <tr>\n",
       "      <th>IN_SURDEZ</th>\n",
       "      <td>0</td>\n",
       "      <td>0.000000</td>\n",
       "    </tr>\n",
       "  </tbody>\n",
       "</table>\n",
       "</div>"
      ],
      "text/plain": [
       "                        Total   Percent\n",
       "NU_NOTA_CN                 53  0.003923\n",
       "NU_NOTA_CH                 53  0.003923\n",
       "Q047                        0  0.000000\n",
       "TP_DEPENDENCIA_ADM_ESC      0  0.000000\n",
       "IN_IDOSO                    0  0.000000\n",
       "IN_GESTANTE                 0  0.000000\n",
       "IN_SABATISTA                0  0.000000\n",
       "IN_DISCALCULIA              0  0.000000\n",
       "IN_DISLEXIA                 0  0.000000\n",
       "IN_SURDEZ                   0  0.000000"
      ]
     },
     "execution_count": 192,
     "metadata": {},
     "output_type": "execute_result"
    }
   ],
   "source": [
    "total = df_merge.isnull().sum().sort_values(ascending=False)\n",
    "percent = (df_merge.isnull().sum()/df_merge.isnull().count()).sort_values(ascending=False)\n",
    "missing_data = pd.concat([total, percent], axis=1, keys=['Total', 'Percent'])\n",
    "missing_data.head(10)"
   ]
  },
  {
   "cell_type": "markdown",
   "metadata": {},
   "source": [
    "So there are still two features with missing values, 'NU_NOTA_CN' and 'NU_NOTA_CH'. These features are the grades of the tests applied in the same day, so they have the exact same number of NaNs. As they are numeric features, we will treat these NaNs with the value -100."
   ]
  },
  {
   "cell_type": "code",
   "execution_count": 193,
   "metadata": {},
   "outputs": [],
   "source": [
    "df_merge['NU_NOTA_CN'].fillna(-100,inplace=True)\n",
    "df_merge['NU_NOTA_CH'].fillna(-100,inplace=True)"
   ]
  },
  {
   "cell_type": "code",
   "execution_count": 194,
   "metadata": {},
   "outputs": [
    {
     "name": "stdout",
     "output_type": "stream",
     "text": [
      "\n",
      "Is there any NaN value  left in the dataset?: False\n"
     ]
    }
   ],
   "source": [
    "print('\\nIs there any NaN value  left in the dataset?:',df_merge.isnull().sum().any())"
   ]
  },
  {
   "cell_type": "markdown",
   "metadata": {},
   "source": [
    "### LabelEncoder of the categorical values"
   ]
  },
  {
   "cell_type": "code",
   "execution_count": 195,
   "metadata": {},
   "outputs": [],
   "source": [
    "qualitative_features = [f for f in df_merge.columns \n",
    "                        if (df_merge[f].dtypes == object) | (df_merge[f].dtypes == bool)] #Lista de Features Qualitativas.\n",
    "quantitative_features = [f for f in df_merge.dropna().columns \n",
    "                         if (df_merge[f].dtypes != object) & (df_merge[f].dtypes != bool)] #Lista de Features Qualitativas.\n",
    "\n",
    "from collections import defaultdict\n",
    "from sklearn.preprocessing import LabelEncoder\n",
    "d = defaultdict(LabelEncoder)\n",
    "### Encoding the variable\n",
    "fit = df_merge[qualitative_features].apply(lambda x: d[x.name].fit_transform(x))\n",
    "df_merge[qualitative_features] = fit"
   ]
  },
  {
   "cell_type": "markdown",
   "metadata": {},
   "source": [
    "### Restore datraframes df_train and df_test"
   ]
  },
  {
   "cell_type": "code",
   "execution_count": 196,
   "metadata": {},
   "outputs": [],
   "source": [
    "df_train = df_merge[:len(df_train)]\n",
    "df_train[target] = y_train.tolist()\n",
    "df_test = df_merge[len(df_train):]"
   ]
  },
  {
   "cell_type": "markdown",
   "metadata": {},
   "source": [
    "### Division between X_train,X_val,y_train,y_val"
   ]
  },
  {
   "cell_type": "code",
   "execution_count": 197,
   "metadata": {},
   "outputs": [],
   "source": [
    "from sklearn.utils import shuffle\n",
    "from sklearn.model_selection import train_test_split\n",
    "\n",
    "size_test = 0.3\n",
    "df_train = shuffle(df_train) #shuffle data before division\n",
    "train_target = df_train[target] # Just for code readibility\n",
    "predictors = df_train.drop(target, axis=1)\n",
    "X_train, X_val, y_train, y_val = train_test_split(predictors, \n",
    "                                                    train_target,\n",
    "                                                    train_size=1-size_test, \n",
    "                                                    test_size=size_test, \n",
    "                                                    random_state=0)\n",
    "X_test = df_test"
   ]
  },
  {
   "cell_type": "markdown",
   "metadata": {},
   "source": [
    "### Create and Train LGBModel"
   ]
  },
  {
   "cell_type": "code",
   "execution_count": 202,
   "metadata": {},
   "outputs": [
    {
     "name": "stdout",
     "output_type": "stream",
     "text": [
      "\n",
      "Training LGBM...\n",
      "Training until validation scores don't improve for 1000 rounds.\n",
      "[100]\tvalid_0's rmse: 85.6746\n",
      "[200]\tvalid_0's rmse: 78.8733\n",
      "[300]\tvalid_0's rmse: 76.0276\n",
      "[400]\tvalid_0's rmse: 74.8264\n",
      "[500]\tvalid_0's rmse: 74.2558\n",
      "[600]\tvalid_0's rmse: 73.9995\n",
      "[700]\tvalid_0's rmse: 73.8985\n",
      "[800]\tvalid_0's rmse: 73.8202\n",
      "[900]\tvalid_0's rmse: 73.8042\n",
      "[1000]\tvalid_0's rmse: 73.8294\n",
      "Did not meet early stopping. Best iteration is:\n",
      "[914]\tvalid_0's rmse: 73.8026\n",
      "End Training LGBM...\n"
     ]
    }
   ],
   "source": [
    "# Custom function to run light gbm model\n",
    "import lightgbm as lgb\n",
    "def run_lgb(train_X, train_y, val_X, val_y, test_X):\n",
    "    params = {\n",
    "        \"objective\" : \"regression\",\n",
    "        \"metric\" : \"rmse\",\n",
    "        \"n_estimators\":1000,\n",
    "        \"num_leaves\" : 30,\n",
    "        \"min_child_samples\" : 30,\n",
    "        \"learning_rate\" : 0.005,\n",
    "        \"verbosity\" : -1\n",
    "    }\n",
    "    \n",
    "    lgtrain = lgb.Dataset(train_X, label=train_y)\n",
    "    lgval = lgb.Dataset(val_X, label=val_y)\n",
    "    print('\\nTraining LGBM...')\n",
    "    model = lgb.train(params, lgtrain, 8000, valid_sets=[lgval], early_stopping_rounds=100, verbose_eval=100)\n",
    "    \n",
    "    pred_test_y = model.predict(test_X, num_iteration=model.best_iteration)\n",
    "    return pred_test_y, model\n",
    "\n",
    "# Training the model #\n",
    "pred_lgb, lgb_model = run_lgb(X_train, y_train, X_val, y_val, X_test)\n",
    "y_train_lgb = lgb_model.predict(X_train)\n",
    "y_val_lgb = lgb_model.predict(X_val)\n",
    "print('End Training LGBM...')"
   ]
  },
  {
   "cell_type": "markdown",
   "metadata": {},
   "source": [
    "### Feature Importance for LGBM"
   ]
  },
  {
   "cell_type": "code",
   "execution_count": 199,
   "metadata": {},
   "outputs": [
    {
     "data": {
      "image/png": "[encoded data removed]",
      "text/plain": [
       "<Figure size 648x1008 with 1 Axes>"
      ]
     },
     "metadata": {},
     "output_type": "display_data"
    }
   ],
   "source": [
    "fig, ax = plt.subplots(figsize=(9,14))\n",
    "lgb.plot_importance(lgb_model, max_num_features=50, height=0.8, ax=ax)\n",
    "ax.grid(False)\n",
    "plt.title(\"LightGBM - Feature Importance\", fontsize=15)\n",
    "plt.show()"
   ]
  },
  {
   "cell_type": "markdown",
   "metadata": {},
   "source": [
    "### Build Results DFs for plotting"
   ]
  },
  {
   "cell_type": "code",
   "execution_count": 200,
   "metadata": {},
   "outputs": [],
   "source": [
    "df_resultado_train = pd.DataFrame(\n",
    "        {\n",
    "         'y_train':y_train.astype(float),\n",
    "         'y_train_lgb':y_train_lgb.astype(float),\n",
    "                })\n",
    "\n",
    "df_resultado_val = pd.DataFrame(\n",
    "        {\n",
    "         'y_val':y_val.astype(float),  \n",
    "         'y_val_lgb':y_val_lgb.astype(float),\n",
    "                })"
   ]
  },
  {
   "cell_type": "code",
   "execution_count": 201,
   "metadata": {},
   "outputs": [
    {
     "data": {
      "text/plain": [
       "<matplotlib.legend.Legend at 0x21e0382e3c8>"
      ]
     },
     "execution_count": 201,
     "metadata": {},
     "output_type": "execute_result"
    },
    {
     "data": {
      "image/png": "[encoded data removed]",
      "text/plain": [
       "<Figure size 432x288 with 1 Axes>"
      ]
     },
     "metadata": {},
     "output_type": "display_data"
    },
    {
     "data": {
      "image/png": "[encoded data removed]",
      "text/plain": [
       "<Figure size 432x288 with 1 Axes>"
      ]
     },
     "metadata": {},
     "output_type": "display_data"
    }
   ],
   "source": [
    "# Plots\n",
    "import matplotlib.pyplot as plt\n",
    "plt.figure(1)\n",
    "df_resultado_val.sort_values('y_val_lgb',inplace=True)\n",
    "df_resultado_val.sort_values('y_val',inplace=True)\n",
    "plt.plot(df_resultado_val['y_val'].tolist(),'r',label='y_val')\n",
    "plt.plot(df_resultado_val['y_val_lgb'].tolist(),'b-.',label='LGB')\n",
    "plt.legend()\n",
    "\n",
    "plt.figure(2)\n",
    "df_resultado_train.sort_values('y_train_lgb',inplace=True)\n",
    "df_resultado_train.sort_values('y_train',inplace=True)\n",
    "plt.plot(df_resultado_train['y_train'].tolist(),'r-',label='y_train')\n",
    "plt.plot(df_resultado_train['y_train_lgb'].tolist(),'b-.',label='LGB')\n",
    "plt.legend()"
   ]
  },
  {
   "cell_type": "markdown",
   "metadata": {},
   "source": [
    "### Conclusions and Notes"
   ]
  },
  {
   "cell_type": "markdown",
   "metadata": {},
   "source": [
    "Our Model performance in blue is definately not Ideal, it is generalizing speacially badly at low values (close to zero). Maybe an  Outliers analisys could help our model with this particular behaviour. Another ML methods could be compared to LightGB aswell.\n",
    "\n",
    "Another topic that could definatelly improve our model is feature engineering."
   ]
  },
  {
   "cell_type": "markdown",
   "metadata": {},
   "source": [
    "### Submission CSV File Creation"
   ]
  },
  {
   "cell_type": "code",
   "execution_count": 204,
   "metadata": {},
   "outputs": [],
   "source": [
    "prediction = lgb_model.predict(X_test)"
   ]
  },
  {
   "cell_type": "code",
   "execution_count": 217,
   "metadata": {},
   "outputs": [],
   "source": [
    "df_saida = pd.DataFrame(\n",
    "        {'NU_INSCRICAO':list(test_id)+list(NaNs_ID),\n",
    "         'NU_NOTA_MT':list(prediction)+[np.nan]*len(NaNs_ID)\n",
    "                })"
   ]
  },
  {
   "cell_type": "code",
   "execution_count": 218,
   "metadata": {},
   "outputs": [
    {
     "data": {
      "text/html": [
       "<div>\n",
       "<style scoped>\n",
       "    .dataframe tbody tr th:only-of-type {\n",
       "        vertical-align: middle;\n",
       "    }\n",
       "\n",
       "    .dataframe tbody tr th {\n",
       "        vertical-align: top;\n",
       "    }\n",
       "\n",
       "    .dataframe thead th {\n",
       "        text-align: right;\n",
       "    }\n",
       "</style>\n",
       "<table border=\"1\" class=\"dataframe\">\n",
       "  <thead>\n",
       "    <tr style=\"text-align: right;\">\n",
       "      <th></th>\n",
       "      <th>NU_INSCRICAO</th>\n",
       "      <th>NU_NOTA_MT</th>\n",
       "    </tr>\n",
       "  </thead>\n",
       "  <tbody>\n",
       "    <tr>\n",
       "      <th>0</th>\n",
       "      <td>73ff9fcc02f0a99919906c942c2e1a1042cdcf98</td>\n",
       "      <td>439.001397</td>\n",
       "    </tr>\n",
       "    <tr>\n",
       "      <th>1</th>\n",
       "      <td>71a95f9f1b91a82c65ad94abbdf9f54e6066f968</td>\n",
       "      <td>445.098701</td>\n",
       "    </tr>\n",
       "    <tr>\n",
       "      <th>2</th>\n",
       "      <td>b38a03232f43b11c9d0788abaf060f7366053b6d</td>\n",
       "      <td>571.141259</td>\n",
       "    </tr>\n",
       "    <tr>\n",
       "      <th>3</th>\n",
       "      <td>715494628a50142ce8cb17191cfe6d0f3cae0934</td>\n",
       "      <td>590.067191</td>\n",
       "    </tr>\n",
       "    <tr>\n",
       "      <th>4</th>\n",
       "      <td>e656d6bad65c93fb2880f1eba5037008c8e75774</td>\n",
       "      <td>484.928121</td>\n",
       "    </tr>\n",
       "    <tr>\n",
       "      <th>5</th>\n",
       "      <td>465cd2a6907fb37d9d8ad3c065f0e2dabdba9b13</td>\n",
       "      <td>541.221829</td>\n",
       "    </tr>\n",
       "    <tr>\n",
       "      <th>6</th>\n",
       "      <td>11539e86171bf07d3a36f09377d7f54ebcc8406a</td>\n",
       "      <td>427.171950</td>\n",
       "    </tr>\n",
       "    <tr>\n",
       "      <th>7</th>\n",
       "      <td>043c544a2104aa8a9849f1a703a08d37a2f16839</td>\n",
       "      <td>469.954072</td>\n",
       "    </tr>\n",
       "    <tr>\n",
       "      <th>8</th>\n",
       "      <td>76ba050e64ad100b856f0eaabd8f539d5c7dd185</td>\n",
       "      <td>451.833573</td>\n",
       "    </tr>\n",
       "    <tr>\n",
       "      <th>9</th>\n",
       "      <td>940aede382ccb332fab15d413217695ec44ca765</td>\n",
       "      <td>461.858411</td>\n",
       "    </tr>\n",
       "    <tr>\n",
       "      <th>10</th>\n",
       "      <td>9ad714b116da76d878dd399d187fccc2dd13dd63</td>\n",
       "      <td>599.008969</td>\n",
       "    </tr>\n",
       "    <tr>\n",
       "      <th>11</th>\n",
       "      <td>dd34464a4d780b12a089347ad580418ac57a3055</td>\n",
       "      <td>504.136507</td>\n",
       "    </tr>\n",
       "    <tr>\n",
       "      <th>12</th>\n",
       "      <td>f837a4cb05a5fd59d20138182f5e8c721eadd584</td>\n",
       "      <td>478.409303</td>\n",
       "    </tr>\n",
       "    <tr>\n",
       "      <th>13</th>\n",
       "      <td>051c4f04fcbe385e1b3964aeb87f0a41d7f203d0</td>\n",
       "      <td>418.531557</td>\n",
       "    </tr>\n",
       "    <tr>\n",
       "      <th>14</th>\n",
       "      <td>3d203727f27abd83b71732d88d8cb1cc099f363b</td>\n",
       "      <td>456.974478</td>\n",
       "    </tr>\n",
       "    <tr>\n",
       "      <th>15</th>\n",
       "      <td>cbc301183dec912f3513ca766bf03dd565f3a38f</td>\n",
       "      <td>463.513688</td>\n",
       "    </tr>\n",
       "    <tr>\n",
       "      <th>16</th>\n",
       "      <td>856aa14bcd11bd289a3b970aab0ce1b166f2c50f</td>\n",
       "      <td>621.982335</td>\n",
       "    </tr>\n",
       "    <tr>\n",
       "      <th>17</th>\n",
       "      <td>11282da1ee78c8db45a041db4c744e33df489df0</td>\n",
       "      <td>437.348725</td>\n",
       "    </tr>\n",
       "    <tr>\n",
       "      <th>18</th>\n",
       "      <td>03c67f683a415c2ea09b582248bd4cb08528c19d</td>\n",
       "      <td>569.247297</td>\n",
       "    </tr>\n",
       "    <tr>\n",
       "      <th>19</th>\n",
       "      <td>046e844fb06a07ba30b41521f0065a8d9c6e5024</td>\n",
       "      <td>409.853785</td>\n",
       "    </tr>\n",
       "    <tr>\n",
       "      <th>20</th>\n",
       "      <td>b296bc595a212a2f89a35470a4bdbb3bfc3f7f1a</td>\n",
       "      <td>431.359687</td>\n",
       "    </tr>\n",
       "    <tr>\n",
       "      <th>21</th>\n",
       "      <td>f66c2e5ff22a95fa532e78c7c4bf1d145247211d</td>\n",
       "      <td>427.662311</td>\n",
       "    </tr>\n",
       "    <tr>\n",
       "      <th>22</th>\n",
       "      <td>17f0dd5abd53dea135ffd020e8e8e0761b3a56aa</td>\n",
       "      <td>554.152261</td>\n",
       "    </tr>\n",
       "    <tr>\n",
       "      <th>23</th>\n",
       "      <td>fbbd23fcfb37cf90b8c1f58eafcab62771f3cd71</td>\n",
       "      <td>467.937341</td>\n",
       "    </tr>\n",
       "    <tr>\n",
       "      <th>24</th>\n",
       "      <td>a99286ac4fdce6f63b59569b2d8ed85a5c911ea3</td>\n",
       "      <td>486.456313</td>\n",
       "    </tr>\n",
       "    <tr>\n",
       "      <th>25</th>\n",
       "      <td>f8d4f9a26c5f2023c33701a8888f9c02513a02c7</td>\n",
       "      <td>477.977037</td>\n",
       "    </tr>\n",
       "    <tr>\n",
       "      <th>26</th>\n",
       "      <td>9785b7d9ca2e8dccfe60ecc0cd2abe1ff51906be</td>\n",
       "      <td>458.023429</td>\n",
       "    </tr>\n",
       "    <tr>\n",
       "      <th>27</th>\n",
       "      <td>59bfa081e020013410d9f60f91813964ba749bb2</td>\n",
       "      <td>432.893750</td>\n",
       "    </tr>\n",
       "    <tr>\n",
       "      <th>28</th>\n",
       "      <td>f5e069ee3bc95998464e8ff5da048b7f999921ed</td>\n",
       "      <td>424.743833</td>\n",
       "    </tr>\n",
       "    <tr>\n",
       "      <th>29</th>\n",
       "      <td>e02240b518016d03a1b5bcc6d0a37b7a527ea93d</td>\n",
       "      <td>539.653900</td>\n",
       "    </tr>\n",
       "    <tr>\n",
       "      <th>...</th>\n",
       "      <td>...</td>\n",
       "      <td>...</td>\n",
       "    </tr>\n",
       "    <tr>\n",
       "      <th>4546</th>\n",
       "      <td>1876251a8137cfe73645ed17f5c23a792744bcd3</td>\n",
       "      <td>NaN</td>\n",
       "    </tr>\n",
       "    <tr>\n",
       "      <th>4547</th>\n",
       "      <td>af75a82019d78c3eb46060e7523d9e2f593777b5</td>\n",
       "      <td>NaN</td>\n",
       "    </tr>\n",
       "    <tr>\n",
       "      <th>4548</th>\n",
       "      <td>381857c3ebbcb389b94d1f17d63dca1df136869f</td>\n",
       "      <td>NaN</td>\n",
       "    </tr>\n",
       "    <tr>\n",
       "      <th>4549</th>\n",
       "      <td>7f137037213cb730c173fed0fa2ab1f22f204f22</td>\n",
       "      <td>NaN</td>\n",
       "    </tr>\n",
       "    <tr>\n",
       "      <th>4550</th>\n",
       "      <td>27a78ea8de0653b12347393e162dfdbec6c33f32</td>\n",
       "      <td>NaN</td>\n",
       "    </tr>\n",
       "    <tr>\n",
       "      <th>4551</th>\n",
       "      <td>9c275826fda115bdd6182d8ab16dbecaea97e780</td>\n",
       "      <td>NaN</td>\n",
       "    </tr>\n",
       "    <tr>\n",
       "      <th>4552</th>\n",
       "      <td>b9ed340e8bd0c1e667394487238a16c56c1cdac9</td>\n",
       "      <td>NaN</td>\n",
       "    </tr>\n",
       "    <tr>\n",
       "      <th>4553</th>\n",
       "      <td>ea0d1a054982160a01e9e5f60d773ac530a1799b</td>\n",
       "      <td>NaN</td>\n",
       "    </tr>\n",
       "    <tr>\n",
       "      <th>4554</th>\n",
       "      <td>362c2bbbb35cf9b8585db9dc9679f61987bf020e</td>\n",
       "      <td>NaN</td>\n",
       "    </tr>\n",
       "    <tr>\n",
       "      <th>4555</th>\n",
       "      <td>eee27c1ffbcaa9007439579c0130a4441947c1fe</td>\n",
       "      <td>NaN</td>\n",
       "    </tr>\n",
       "    <tr>\n",
       "      <th>4556</th>\n",
       "      <td>3a5ca36099c6a0fd156a76b4a690475571fd1910</td>\n",
       "      <td>NaN</td>\n",
       "    </tr>\n",
       "    <tr>\n",
       "      <th>4557</th>\n",
       "      <td>14b65d92ea59b7842a5cb62751408f93fbf01c66</td>\n",
       "      <td>NaN</td>\n",
       "    </tr>\n",
       "    <tr>\n",
       "      <th>4558</th>\n",
       "      <td>924a4fcdb15cacd3269fa71e576321de1870affc</td>\n",
       "      <td>NaN</td>\n",
       "    </tr>\n",
       "    <tr>\n",
       "      <th>4559</th>\n",
       "      <td>cf1195c45bcf3bfc6135eb9c5625283207cc2f03</td>\n",
       "      <td>NaN</td>\n",
       "    </tr>\n",
       "    <tr>\n",
       "      <th>4560</th>\n",
       "      <td>b6893e409cdc3b7f6c940cd214438aa761913f85</td>\n",
       "      <td>NaN</td>\n",
       "    </tr>\n",
       "    <tr>\n",
       "      <th>4561</th>\n",
       "      <td>e4206ed13817dac8d85bc6b92c7802b8dae6e905</td>\n",
       "      <td>NaN</td>\n",
       "    </tr>\n",
       "    <tr>\n",
       "      <th>4562</th>\n",
       "      <td>ce09f3d27a71990c8cfbaa61ab1674a15405ae5b</td>\n",
       "      <td>NaN</td>\n",
       "    </tr>\n",
       "    <tr>\n",
       "      <th>4563</th>\n",
       "      <td>df956ce581c80ef60a679e2c4462bb58e17954fc</td>\n",
       "      <td>NaN</td>\n",
       "    </tr>\n",
       "    <tr>\n",
       "      <th>4564</th>\n",
       "      <td>678812c116ade3ff556dc323192e1e4181401cb7</td>\n",
       "      <td>NaN</td>\n",
       "    </tr>\n",
       "    <tr>\n",
       "      <th>4565</th>\n",
       "      <td>cf022520c3c454f72126080adff2602ed64fe923</td>\n",
       "      <td>NaN</td>\n",
       "    </tr>\n",
       "    <tr>\n",
       "      <th>4566</th>\n",
       "      <td>5581f3af6745c15b7def2d2a5f5b3470d8c94292</td>\n",
       "      <td>NaN</td>\n",
       "    </tr>\n",
       "    <tr>\n",
       "      <th>4567</th>\n",
       "      <td>b37585062738f5f8ed6b8c1be21620c263825902</td>\n",
       "      <td>NaN</td>\n",
       "    </tr>\n",
       "    <tr>\n",
       "      <th>4568</th>\n",
       "      <td>eb0c3ef3526b4d31b6c35e615728d79fdf13262a</td>\n",
       "      <td>NaN</td>\n",
       "    </tr>\n",
       "    <tr>\n",
       "      <th>4569</th>\n",
       "      <td>7f96744acc207e4cae1cba621dd61c6ac9c6d746</td>\n",
       "      <td>NaN</td>\n",
       "    </tr>\n",
       "    <tr>\n",
       "      <th>4570</th>\n",
       "      <td>04ce287c4adefd1db06904756e7036cf8dc04999</td>\n",
       "      <td>NaN</td>\n",
       "    </tr>\n",
       "    <tr>\n",
       "      <th>4571</th>\n",
       "      <td>098eabcd83d72785beca4cdff3d5cfbc71904a48</td>\n",
       "      <td>NaN</td>\n",
       "    </tr>\n",
       "    <tr>\n",
       "      <th>4572</th>\n",
       "      <td>b8ec140a86a7a6e569f3eda9ae9083183ca2e386</td>\n",
       "      <td>NaN</td>\n",
       "    </tr>\n",
       "    <tr>\n",
       "      <th>4573</th>\n",
       "      <td>40a9b86a4efdd7ab5ee6fc26de9a984946896deb</td>\n",
       "      <td>NaN</td>\n",
       "    </tr>\n",
       "    <tr>\n",
       "      <th>4574</th>\n",
       "      <td>ec73ba109d1a91299e071b2a95f79c36c1c6e069</td>\n",
       "      <td>NaN</td>\n",
       "    </tr>\n",
       "    <tr>\n",
       "      <th>4575</th>\n",
       "      <td>adf0d15b54317b6564ef56dad2b775bbb0ef50cc</td>\n",
       "      <td>NaN</td>\n",
       "    </tr>\n",
       "  </tbody>\n",
       "</table>\n",
       "<p>4576 rows × 2 columns</p>\n",
       "</div>"
      ],
      "text/plain": [
       "                                  NU_INSCRICAO  NU_NOTA_MT\n",
       "0     73ff9fcc02f0a99919906c942c2e1a1042cdcf98  439.001397\n",
       "1     71a95f9f1b91a82c65ad94abbdf9f54e6066f968  445.098701\n",
       "2     b38a03232f43b11c9d0788abaf060f7366053b6d  571.141259\n",
       "3     715494628a50142ce8cb17191cfe6d0f3cae0934  590.067191\n",
       "4     e656d6bad65c93fb2880f1eba5037008c8e75774  484.928121\n",
       "5     465cd2a6907fb37d9d8ad3c065f0e2dabdba9b13  541.221829\n",
       "6     11539e86171bf07d3a36f09377d7f54ebcc8406a  427.171950\n",
       "7     043c544a2104aa8a9849f1a703a08d37a2f16839  469.954072\n",
       "8     76ba050e64ad100b856f0eaabd8f539d5c7dd185  451.833573\n",
       "9     940aede382ccb332fab15d413217695ec44ca765  461.858411\n",
       "10    9ad714b116da76d878dd399d187fccc2dd13dd63  599.008969\n",
       "11    dd34464a4d780b12a089347ad580418ac57a3055  504.136507\n",
       "12    f837a4cb05a5fd59d20138182f5e8c721eadd584  478.409303\n",
       "13    051c4f04fcbe385e1b3964aeb87f0a41d7f203d0  418.531557\n",
       "14    3d203727f27abd83b71732d88d8cb1cc099f363b  456.974478\n",
       "15    cbc301183dec912f3513ca766bf03dd565f3a38f  463.513688\n",
       "16    856aa14bcd11bd289a3b970aab0ce1b166f2c50f  621.982335\n",
       "17    11282da1ee78c8db45a041db4c744e33df489df0  437.348725\n",
       "18    03c67f683a415c2ea09b582248bd4cb08528c19d  569.247297\n",
       "19    046e844fb06a07ba30b41521f0065a8d9c6e5024  409.853785\n",
       "20    b296bc595a212a2f89a35470a4bdbb3bfc3f7f1a  431.359687\n",
       "21    f66c2e5ff22a95fa532e78c7c4bf1d145247211d  427.662311\n",
       "22    17f0dd5abd53dea135ffd020e8e8e0761b3a56aa  554.152261\n",
       "23    fbbd23fcfb37cf90b8c1f58eafcab62771f3cd71  467.937341\n",
       "24    a99286ac4fdce6f63b59569b2d8ed85a5c911ea3  486.456313\n",
       "25    f8d4f9a26c5f2023c33701a8888f9c02513a02c7  477.977037\n",
       "26    9785b7d9ca2e8dccfe60ecc0cd2abe1ff51906be  458.023429\n",
       "27    59bfa081e020013410d9f60f91813964ba749bb2  432.893750\n",
       "28    f5e069ee3bc95998464e8ff5da048b7f999921ed  424.743833\n",
       "29    e02240b518016d03a1b5bcc6d0a37b7a527ea93d  539.653900\n",
       "...                                        ...         ...\n",
       "4546  1876251a8137cfe73645ed17f5c23a792744bcd3         NaN\n",
       "4547  af75a82019d78c3eb46060e7523d9e2f593777b5         NaN\n",
       "4548  381857c3ebbcb389b94d1f17d63dca1df136869f         NaN\n",
       "4549  7f137037213cb730c173fed0fa2ab1f22f204f22         NaN\n",
       "4550  27a78ea8de0653b12347393e162dfdbec6c33f32         NaN\n",
       "4551  9c275826fda115bdd6182d8ab16dbecaea97e780         NaN\n",
       "4552  b9ed340e8bd0c1e667394487238a16c56c1cdac9         NaN\n",
       "4553  ea0d1a054982160a01e9e5f60d773ac530a1799b         NaN\n",
       "4554  362c2bbbb35cf9b8585db9dc9679f61987bf020e         NaN\n",
       "4555  eee27c1ffbcaa9007439579c0130a4441947c1fe         NaN\n",
       "4556  3a5ca36099c6a0fd156a76b4a690475571fd1910         NaN\n",
       "4557  14b65d92ea59b7842a5cb62751408f93fbf01c66         NaN\n",
       "4558  924a4fcdb15cacd3269fa71e576321de1870affc         NaN\n",
       "4559  cf1195c45bcf3bfc6135eb9c5625283207cc2f03         NaN\n",
       "4560  b6893e409cdc3b7f6c940cd214438aa761913f85         NaN\n",
       "4561  e4206ed13817dac8d85bc6b92c7802b8dae6e905         NaN\n",
       "4562  ce09f3d27a71990c8cfbaa61ab1674a15405ae5b         NaN\n",
       "4563  df956ce581c80ef60a679e2c4462bb58e17954fc         NaN\n",
       "4564  678812c116ade3ff556dc323192e1e4181401cb7         NaN\n",
       "4565  cf022520c3c454f72126080adff2602ed64fe923         NaN\n",
       "4566  5581f3af6745c15b7def2d2a5f5b3470d8c94292         NaN\n",
       "4567  b37585062738f5f8ed6b8c1be21620c263825902         NaN\n",
       "4568  eb0c3ef3526b4d31b6c35e615728d79fdf13262a         NaN\n",
       "4569  7f96744acc207e4cae1cba621dd61c6ac9c6d746         NaN\n",
       "4570  04ce287c4adefd1db06904756e7036cf8dc04999         NaN\n",
       "4571  098eabcd83d72785beca4cdff3d5cfbc71904a48         NaN\n",
       "4572  b8ec140a86a7a6e569f3eda9ae9083183ca2e386         NaN\n",
       "4573  40a9b86a4efdd7ab5ee6fc26de9a984946896deb         NaN\n",
       "4574  ec73ba109d1a91299e071b2a95f79c36c1c6e069         NaN\n",
       "4575  adf0d15b54317b6564ef56dad2b775bbb0ef50cc         NaN\n",
       "\n",
       "[4576 rows x 2 columns]"
      ]
     },
     "execution_count": 218,
     "metadata": {},
     "output_type": "execute_result"
    }
   ],
   "source": [
    "df_saida"
   ]
  },
  {
   "cell_type": "markdown",
   "metadata": {},
   "source": [
    "### Submit Solution"
   ]
  },
  {
   "cell_type": "code",
   "execution_count": 219,
   "metadata": {},
   "outputs": [],
   "source": [
    "# df_saida.to_csv(r'C:\\Users\\wesle\\codenation\\enem-2/answer.csv',index=False)"
   ]
  }
 ],
 "metadata": {
  "kernelspec": {
   "display_name": "Python 3",
   "language": "python",
   "name": "python3"
  },
  "language_info": {
   "codemirror_mode": {
    "name": "ipython",
    "version": 3
   },
   "file_extension": ".py",
   "mimetype": "text/x-python",
   "name": "python",
   "nbconvert_exporter": "python",
   "pygments_lexer": "ipython3",
   "version": "3.6.5"
  }
 },
 "nbformat": 4,
 "nbformat_minor": 2
}
